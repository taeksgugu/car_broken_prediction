{
 "cells": [
  {
   "cell_type": "code",
   "execution_count": 1,
   "id": "dae8786e",
   "metadata": {},
   "outputs": [],
   "source": [
    "import os\n",
    "import pandas as pd\n",
    "import numpy as np\n",
    "import json\n",
    "import cv2\n",
    "import matplotlib.pyplot as plt"
   ]
  },
  {
   "cell_type": "code",
   "execution_count": 2,
   "id": "961b07fe",
   "metadata": {},
   "outputs": [],
   "source": [
    "IMAGE_PATH = 'C:/Users/dnjse/AI_project/dataset/data/2.Validation/rawdata/VS_damage/damage/'\n",
    "LABEL_PATH = 'C:/Users/dnjse/AI_project/dataset/data/2.Validation/labeling/VL_damage/damage/'\n",
    "al = os.listdir(LABEL_PATH)"
   ]
  },
  {
   "cell_type": "code",
   "execution_count": 3,
   "id": "743aa66a",
   "metadata": {
    "scrolled": true
   },
   "outputs": [
    {
     "data": {
      "text/plain": [
       "50445"
      ]
     },
     "execution_count": 3,
     "metadata": {},
     "output_type": "execute_result"
    }
   ],
   "source": [
    "len(al)"
   ]
  },
  {
   "cell_type": "code",
   "execution_count": 4,
   "id": "33ccabf8",
   "metadata": {},
   "outputs": [
    {
     "data": {
      "text/plain": [
       "50445"
      ]
     },
     "execution_count": 4,
     "metadata": {},
     "output_type": "execute_result"
    }
   ],
   "source": [
    "s = os.listdir(IMAGE_PATH)\n",
    "len(s)"
   ]
  },
  {
   "cell_type": "code",
   "execution_count": 11,
   "id": "800af8ed",
   "metadata": {},
   "outputs": [],
   "source": [
    "# mask_dir = 'C:/Users/dnjse/AI_project/dataset/data/2.Validation/mask_data/scratched/'\n",
    "# MASK_PATH = 'C:/Users/dnjse/AI_project/dataset/data/2.Validation/mask_label/scratched/'\n",
    "\n",
    "# mask_dir = 'C:/Users/dnjse/AI_project/dataset/data/2.Validation/mask_data/separated/'\n",
    "# MASK_PATH = 'C:/Users/dnjse/AI_project/dataset/data/2.Validation/mask_label/separated/'\n",
    "\n",
    "# mask_dir = 'C:/Users/dnjse/AI_project/dataset/data/2.Validation/mask_data/breakage/'\n",
    "# MASK_PATH = 'C:/Users/dnjse/AI_project/dataset/data/2.Validation/mask_label/breakage/'\n",
    "\n",
    "mask_dir = 'C:/Users/dnjse/AI_project/dataset/data/2.Validation/mask_data/crushed/'\n",
    "MASK_PATH = 'C:/Users/dnjse/AI_project/dataset/data/2.Validation/mask_label/crushed/'"
   ]
  },
  {
   "cell_type": "code",
   "execution_count": 12,
   "id": "025a0f29",
   "metadata": {},
   "outputs": [],
   "source": [
    "# damage_type = 'Scratched'\n",
    "# damage_type = 'Separated'\n",
    "# damage_type = 'Breakage'\n",
    "damage_type = 'Crushed'\n",
    "model_inputs = []\n",
    "file_name = []\n",
    "\n",
    "for annot_name in al[20000:30000]:\n",
    "    with open(LABEL_PATH + annot_name, 'r') as f:\n",
    "        data = json.load(f)\n",
    "    annotations = data['annotations']\n",
    "    damage_lst = set(x['damage'] for x in data['annotations'])\n",
    "    if damage_type in damage_lst:\n",
    "        # 이미지 로드\n",
    "        img = cv2.imread(IMAGE_PATH + annot_name.replace('.json','.jpg'))\n",
    "\n",
    "        # Annotation 정보를 마스크로 변환\n",
    "        mask = np.zeros((img.shape[0], img.shape[1]), dtype=np.uint8)\n",
    "        for annotation in annotations:\n",
    "            if annotation['damage'] == damage_type:\n",
    "                segmentation = annotation['segmentation'][0][0]\n",
    "                cv2.fillPoly(mask, [np.array(segmentation)], 255)\n",
    "\n",
    "        # 이미지와 마스크를 저장\n",
    "        img_path = mask_dir + annot_name.replace('.json','.jpg')\n",
    "        mask_path = MASK_PATH + annot_name.replace('.json','.jpg') # 마스크를 jpg 형식으로 저장\n",
    "        cv2.imwrite(img_path, img)\n",
    "        cv2.imwrite(mask_path, mask)\n",
    "\n",
    "        # 모델 입력을 위한 이미지와 마스크 행렬 쌍 생성\n",
    "#         model_input = (img, mask)\n",
    "#         model_inputs.append(model_input)\n",
    "#         file_name.append(annot_name.replace('.json','.jpg'))\n"
   ]
  },
  {
   "cell_type": "code",
   "execution_count": null,
   "id": "20abb27d",
   "metadata": {},
   "outputs": [],
   "source": []
  }
 ],
 "metadata": {
  "kernelspec": {
   "display_name": "Python 3 (ipykernel)",
   "language": "python",
   "name": "python3"
  },
  "language_info": {
   "codemirror_mode": {
    "name": "ipython",
    "version": 3
   },
   "file_extension": ".py",
   "mimetype": "text/x-python",
   "name": "python",
   "nbconvert_exporter": "python",
   "pygments_lexer": "ipython3",
   "version": "3.10.9"
  }
 },
 "nbformat": 4,
 "nbformat_minor": 5
}
